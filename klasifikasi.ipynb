{
 "cells": [
  {
   "cell_type": "code",
   "execution_count": 1,
   "metadata": {},
   "outputs": [],
   "source": [
    "import pandas as pd\n",
    "import numpy as np\n",
    "import seaborn as sns\n",
    "import matplotlib.pyplot as plt\n",
    "from sklearn.model_selection import train_test_split\n",
    "from sklearn.preprocessing import StandardScaler, LabelEncoder"
   ]
  },
  {
   "cell_type": "code",
   "execution_count": 2,
   "metadata": {},
   "outputs": [],
   "source": [
    "# 1. Memuat Data\n",
    "# Membaca file CSV yang berisi data penjualan alpukat\n",
    "data = pd.read_csv('avocado prices.csv')"
   ]
  },
  {
   "cell_type": "code",
   "execution_count": 3,
   "metadata": {},
   "outputs": [
    {
     "name": "stdout",
     "output_type": "stream",
     "text": [
      "\n",
      "Informasi Dataset:\n",
      "\n",
      "<class 'pandas.core.frame.DataFrame'>\n",
      "RangeIndex: 18249 entries, 0 to 18248\n",
      "Data columns (total 14 columns):\n",
      " #   Column        Non-Null Count  Dtype  \n",
      "---  ------        --------------  -----  \n",
      " 0   Unnamed: 0    18249 non-null  int64  \n",
      " 1   Date          18249 non-null  object \n",
      " 2   AveragePrice  18249 non-null  float64\n",
      " 3   Total Volume  18249 non-null  float64\n",
      " 4   4046          18249 non-null  float64\n",
      " 5   4225          18249 non-null  float64\n",
      " 6   4770          18249 non-null  float64\n",
      " 7   Total Bags    18249 non-null  float64\n",
      " 8   Small Bags    18249 non-null  float64\n",
      " 9   Large Bags    18249 non-null  float64\n",
      " 10  XLarge Bags   18249 non-null  float64\n",
      " 11  type          18249 non-null  object \n",
      " 12  year          18249 non-null  int64  \n",
      " 13  region        18249 non-null  object \n",
      "dtypes: float64(9), int64(2), object(3)\n",
      "memory usage: 1.9+ MB\n"
     ]
    }
   ],
   "source": [
    "# 2. Memeriksa Statistik Data\n",
    "# Menampilkan informasi dasar tentang dataset\n",
    "print(\"\\nInformasi Dataset:\\n\")\n",
    "data.info()"
   ]
  },
  {
   "cell_type": "code",
   "execution_count": 4,
   "metadata": {},
   "outputs": [
    {
     "name": "stdout",
     "output_type": "stream",
     "text": [
      "\n",
      "Statistik Deskriptif:\n",
      "\n",
      "         Unnamed: 0  AveragePrice  Total Volume          4046          4225  \\\n",
      "count  18249.000000  18249.000000  1.824900e+04  1.824900e+04  1.824900e+04   \n",
      "mean      24.232232      1.405978  8.506440e+05  2.930084e+05  2.951546e+05   \n",
      "std       15.481045      0.402677  3.453545e+06  1.264989e+06  1.204120e+06   \n",
      "min        0.000000      0.440000  8.456000e+01  0.000000e+00  0.000000e+00   \n",
      "25%       10.000000      1.100000  1.083858e+04  8.540700e+02  3.008780e+03   \n",
      "50%       24.000000      1.370000  1.073768e+05  8.645300e+03  2.906102e+04   \n",
      "75%       38.000000      1.660000  4.329623e+05  1.110202e+05  1.502069e+05   \n",
      "max       52.000000      3.250000  6.250565e+07  2.274362e+07  2.047057e+07   \n",
      "\n",
      "               4770    Total Bags    Small Bags    Large Bags    XLarge Bags  \\\n",
      "count  1.824900e+04  1.824900e+04  1.824900e+04  1.824900e+04   18249.000000   \n",
      "mean   2.283974e+04  2.396392e+05  1.821947e+05  5.433809e+04    3106.426507   \n",
      "std    1.074641e+05  9.862424e+05  7.461785e+05  2.439660e+05   17692.894652   \n",
      "min    0.000000e+00  0.000000e+00  0.000000e+00  0.000000e+00       0.000000   \n",
      "25%    0.000000e+00  5.088640e+03  2.849420e+03  1.274700e+02       0.000000   \n",
      "50%    1.849900e+02  3.974383e+04  2.636282e+04  2.647710e+03       0.000000   \n",
      "75%    6.243420e+03  1.107834e+05  8.333767e+04  2.202925e+04     132.500000   \n",
      "max    2.546439e+06  1.937313e+07  1.338459e+07  5.719097e+06  551693.650000   \n",
      "\n",
      "               year  \n",
      "count  18249.000000  \n",
      "mean    2016.147899  \n",
      "std        0.939938  \n",
      "min     2015.000000  \n",
      "25%     2015.000000  \n",
      "50%     2016.000000  \n",
      "75%     2017.000000  \n",
      "max     2018.000000  \n"
     ]
    }
   ],
   "source": [
    "# Menampilkan statistik deskriptif untuk kolom numerik\n",
    "print(\"\\nStatistik Deskriptif:\\n\")\n",
    "print(data.describe())"
   ]
  },
  {
   "cell_type": "code",
   "execution_count": 5,
   "metadata": {},
   "outputs": [],
   "source": [
    "# 3. Pembersihan Data\n",
    "# Menghapus kolom yang tidak relevan untuk klasifikasi\n",
    "# Kolom 'Unnamed: 0' dianggap sebagai indeks tambahan dan dihapus\n",
    "if 'Unnamed: 0' in data.columns:\n",
    "    data = data.drop(columns=['Unnamed: 0'])\n",
    "\n",
    "# Kolom 'Date' juga dihapus karena tidak relevan secara langsung untuk tugas klasifikasi\n",
    "if 'Date' in data.columns:\n",
    "    data = data.drop(columns=['Date'])"
   ]
  },
  {
   "cell_type": "code",
   "execution_count": 6,
   "metadata": {},
   "outputs": [
    {
     "name": "stdout",
     "output_type": "stream",
     "text": [
      "\n",
      "Jumlah nilai yang hilang per kolom:\n",
      "\n",
      "AveragePrice    0\n",
      "Total Volume    0\n",
      "4046            0\n",
      "4225            0\n",
      "4770            0\n",
      "Total Bags      0\n",
      "Small Bags      0\n",
      "Large Bags      0\n",
      "XLarge Bags     0\n",
      "type            0\n",
      "year            0\n",
      "region          0\n",
      "dtype: int64\n"
     ]
    }
   ],
   "source": [
    "# Memeriksa nilai yang hilang di setiap kolom\n",
    "print(\"\\nJumlah nilai yang hilang per kolom:\\n\")\n",
    "print(data.isnull().sum())\n"
   ]
  },
  {
   "cell_type": "code",
   "execution_count": 7,
   "metadata": {},
   "outputs": [
    {
     "name": "stderr",
     "output_type": "stream",
     "text": [
      "C:\\Users\\L13 YOGA\\AppData\\Local\\Temp\\ipykernel_7360\\661792018.py:4: FutureWarning: \n",
      "\n",
      "Passing `palette` without assigning `hue` is deprecated and will be removed in v0.14.0. Assign the `x` variable to `hue` and set `legend=False` for the same effect.\n",
      "\n",
      "  sns.countplot(x='type', data=data, palette='viridis')\n"
     ]
    },
    {
     "data": {
      "image/png": "[encoded data removed]",
      "text/plain": [
       "<Figure size 800x600 with 1 Axes>"
      ]
     },
     "metadata": {},
     "output_type": "display_data"
    }
   ],
   "source": [
    "# 4. Visualisasi Distribusi Kolom Target\n",
    "# Membuat plot untuk melihat distribusi kategori target (kolom 'type')\n",
    "plt.figure(figsize=(8, 6))\n",
    "sns.countplot(x='type', data=data, palette='viridis')\n",
    "plt.title('Distribusi Kategori Target (type)')\n",
    "plt.xlabel('Jenis Alpukat')\n",
    "plt.ylabel('Jumlah')\n",
    "plt.show()"
   ]
  },
  {
   "cell_type": "code",
   "execution_count": 8,
   "metadata": {},
   "outputs": [],
   "source": [
    "# 5. Pra-pemrosesan Data\n",
    "# Mengubah target (kolom 'type') menjadi label numerik menggunakan LabelEncoder\n",
    "# 0 untuk \"conventional\" dan 1 untuk \"organic\"\n",
    "le = LabelEncoder()\n",
    "data['type'] = le.fit_transform(data['type'])\n",
    "\n",
    "# Melakukan one-hot encoding pada kolom kategorikal 'region'\n",
    "data = pd.get_dummies(data, columns=['region'], drop_first=True)\n",
    "\n",
    "# Normalisasi kolom numerik untuk memastikan skala yang seragam\n",
    "numerical_features = ['AveragePrice', 'Total Volume', '4046', '4225', '4770', 'Total Bags', 'Small Bags', 'Large Bags', 'XLarge Bags']\n",
    "scaler = StandardScaler()\n",
    "data[numerical_features] = scaler.fit_transform(data[numerical_features])"
   ]
  },
  {
   "cell_type": "code",
   "execution_count": 9,
   "metadata": {},
   "outputs": [],
   "source": [
    "# 6. Membagi Data untuk Pelatihan dan Pengujian\n",
    "# Memisahkan fitur (X) dan target (y)\n",
    "X = data.drop(columns=['type'])  # Fitur\n",
    "y = data['type']  # Target\n",
    "\n",
    "# Membagi dataset menjadi data latih dan data uji dengan rasio 80:20\n",
    "X_train, X_test, y_train, y_test = train_test_split(X, y, test_size=0.2, random_state=42)\n"
   ]
  },
  {
   "cell_type": "code",
   "execution_count": 10,
   "metadata": {},
   "outputs": [
    {
     "name": "stdout",
     "output_type": "stream",
     "text": [
      "\n",
      "Shape Data:\n",
      "\n",
      "Data Latih: (14599, 63), Data Uji: (3650, 63)\n"
     ]
    }
   ],
   "source": [
    "# Menampilkan jumlah data latih dan uji\n",
    "print(\"\\nShape Data:\\n\")\n",
    "print(f\"Data Latih: {X_train.shape}, Data Uji: {X_test.shape}\")\n"
   ]
  },
  {
   "cell_type": "code",
   "execution_count": 11,
   "metadata": {},
   "outputs": [
    {
     "name": "stdout",
     "output_type": "stream",
     "text": [
      "\n",
      "Data siap untuk klasifikasi:\n",
      "\n",
      "       AveragePrice  Total Volume      4046      4225     4770  Total Bags  \\\n",
      "16391      1.177209     -0.244760 -0.231519 -0.244403 -0.21254   -0.238570   \n",
      "4990      -1.480083     -0.078771 -0.108676 -0.118035 -0.01225    0.009004   \n",
      "13653      1.500058     -0.244444 -0.230034 -0.243027 -0.21254   -0.241047   \n",
      "2074      -0.958558     -0.204142 -0.169819 -0.212934 -0.21129   -0.214035   \n",
      "12377      0.308002     -0.234580 -0.231507 -0.213006 -0.21254   -0.241269   \n",
      "\n",
      "       Small Bags  Large Bags  XLarge Bags  year  ...  region_SouthCarolina  \\\n",
      "16391   -0.238346   -0.222707     -0.17558  2017  ...                 False   \n",
      "4990    -0.050122    0.202433     -0.17558  2016  ...                 False   \n",
      "13653   -0.241699   -0.222463     -0.17558  2016  ...                 False   \n",
      "2074    -0.209356   -0.212188     -0.17558  2015  ...                 False   \n",
      "12377   -0.241905   -0.222734     -0.17558  2016  ...                 False   \n",
      "\n",
      "       region_SouthCentral  region_Southeast  region_Spokane  region_StLouis  \\\n",
      "16391                False             False           False           False   \n",
      "4990                 False             False           False           False   \n",
      "13653                False             False           False           False   \n",
      "2074                 False             False           False           False   \n",
      "12377                False             False           False           False   \n",
      "\n",
      "       region_Syracuse  region_Tampa  region_TotalUS  region_West  \\\n",
      "16391            False         False           False        False   \n",
      "4990             False         False           False        False   \n",
      "13653            False         False           False        False   \n",
      "2074             False         False           False        False   \n",
      "12377            False         False           False        False   \n",
      "\n",
      "       region_WestTexNewMexico  \n",
      "16391                    False  \n",
      "4990                     False  \n",
      "13653                    False  \n",
      "2074                     False  \n",
      "12377                    False  \n",
      "\n",
      "[5 rows x 63 columns]\n"
     ]
    }
   ],
   "source": [
    "# Menampilkan contoh data setelah pra-pemrosesan\n",
    "print(\"\\nData siap untuk klasifikasi:\\n\")\n",
    "print(X_train.head())\n"
   ]
  }
 ],
 "metadata": {
  "kernelspec": {
   "display_name": "Python 3",
   "language": "python",
   "name": "python3"
  },
  "language_info": {
   "codemirror_mode": {
    "name": "ipython",
    "version": 3
   },
   "file_extension": ".py",
   "mimetype": "text/x-python",
   "name": "python",
   "nbconvert_exporter": "python",
   "pygments_lexer": "ipython3",
   "version": "3.11.9"
  }
 },
 "nbformat": 4,
 "nbformat_minor": 2
}
